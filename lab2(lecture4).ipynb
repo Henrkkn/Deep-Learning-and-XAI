{
 "cells": [
  {
   "cell_type": "markdown",
   "metadata": {},
   "source": [
    "## Short comment\n",
    "\n",
    "In this we continue Lab 2, however this is based on lecture notes only. I am comparing two different machine learning approaches - Bagging with Decision Tree and FNN with dropout- on the Forest CoverType from sklearn dataset (581 012 rows, 54 columns, and 7 classes to predict).\n",
    "I am not optimizing either machine learning approaches (normalization  prior the FNN, Cross-validation etc etc), the intention was just to apply theory into practice on these new approaches. \n",
    "The result was not surprising."
   ]
  },
  {
   "cell_type": "code",
   "execution_count": 2,
   "metadata": {},
   "outputs": [],
   "source": [
    "import numpy as np\n",
    "import tensorflow as tf\n",
    "from tensorflow.keras import layers, models\n",
    "import matplotlib.pyplot as plt\n",
    "from sklearn.model_selection import train_test_split\n",
    "from sklearn import datasets\n",
    "from sklearn.ensemble import BaggingClassifier\n",
    "from sklearn.tree import DecisionTreeClassifier\n",
    "from sklearn.metrics import accuracy_score"
   ]
  },
  {
   "cell_type": "code",
   "execution_count": 4,
   "metadata": {},
   "outputs": [],
   "source": [
    "# Defining the dataset from sklearn, returns like a Pandas Dataframe\n",
    "data = datasets.fetch_covtype(as_frame=True)\n",
    "\n",
    "# Defining the X's and Y's\n",
    "x = data[\"data\"]\n",
    "y = data[\"target\"]-1\n",
    "\n",
    "# Splitting the data into training and test sets\n",
    "x_train, x_test, y_train, y_test = train_test_split(x, y, test_size = 0.2, random_state=42)"
   ]
  },
  {
   "cell_type": "code",
   "execution_count": 8,
   "metadata": {},
   "outputs": [
    {
     "name": "stdout",
     "output_type": "stream",
     "text": [
      "{'data':         Elevation  Aspect  Slope  Horizontal_Distance_To_Hydrology  \\\n",
      "0          2596.0    51.0    3.0                             258.0   \n",
      "1          2590.0    56.0    2.0                             212.0   \n",
      "2          2804.0   139.0    9.0                             268.0   \n",
      "3          2785.0   155.0   18.0                             242.0   \n",
      "4          2595.0    45.0    2.0                             153.0   \n",
      "...           ...     ...    ...                               ...   \n",
      "581007     2396.0   153.0   20.0                              85.0   \n",
      "581008     2391.0   152.0   19.0                              67.0   \n",
      "581009     2386.0   159.0   17.0                              60.0   \n",
      "581010     2384.0   170.0   15.0                              60.0   \n",
      "581011     2383.0   165.0   13.0                              60.0   \n",
      "\n",
      "        Vertical_Distance_To_Hydrology  Horizontal_Distance_To_Roadways  \\\n",
      "0                                  0.0                            510.0   \n",
      "1                                 -6.0                            390.0   \n",
      "2                                 65.0                           3180.0   \n",
      "3                                118.0                           3090.0   \n",
      "4                                 -1.0                            391.0   \n",
      "...                                ...                              ...   \n",
      "581007                            17.0                            108.0   \n",
      "581008                            12.0                             95.0   \n",
      "581009                             7.0                             90.0   \n",
      "581010                             5.0                             90.0   \n",
      "581011                             4.0                             67.0   \n",
      "\n",
      "        Hillshade_9am  Hillshade_Noon  Hillshade_3pm  \\\n",
      "0               221.0           232.0          148.0   \n",
      "1               220.0           235.0          151.0   \n",
      "2               234.0           238.0          135.0   \n",
      "3               238.0           238.0          122.0   \n",
      "4               220.0           234.0          150.0   \n",
      "...               ...             ...            ...   \n",
      "581007          240.0           237.0          118.0   \n",
      "581008          240.0           237.0          119.0   \n",
      "581009          236.0           241.0          130.0   \n",
      "581010          230.0           245.0          143.0   \n",
      "581011          231.0           244.0          141.0   \n",
      "\n",
      "        Horizontal_Distance_To_Fire_Points  ...  Soil_Type_30  Soil_Type_31  \\\n",
      "0                                   6279.0  ...           0.0           0.0   \n",
      "1                                   6225.0  ...           0.0           0.0   \n",
      "2                                   6121.0  ...           0.0           0.0   \n",
      "3                                   6211.0  ...           0.0           0.0   \n",
      "4                                   6172.0  ...           0.0           0.0   \n",
      "...                                    ...  ...           ...           ...   \n",
      "581007                               837.0  ...           0.0           0.0   \n",
      "581008                               845.0  ...           0.0           0.0   \n",
      "581009                               854.0  ...           0.0           0.0   \n",
      "581010                               864.0  ...           0.0           0.0   \n",
      "581011                               875.0  ...           0.0           0.0   \n",
      "\n",
      "        Soil_Type_32  Soil_Type_33  Soil_Type_34  Soil_Type_35  Soil_Type_36  \\\n",
      "0                0.0           0.0           0.0           0.0           0.0   \n",
      "1                0.0           0.0           0.0           0.0           0.0   \n",
      "2                0.0           0.0           0.0           0.0           0.0   \n",
      "3                0.0           0.0           0.0           0.0           0.0   \n",
      "4                0.0           0.0           0.0           0.0           0.0   \n",
      "...              ...           ...           ...           ...           ...   \n",
      "581007           0.0           0.0           0.0           0.0           0.0   \n",
      "581008           0.0           0.0           0.0           0.0           0.0   \n",
      "581009           0.0           0.0           0.0           0.0           0.0   \n",
      "581010           0.0           0.0           0.0           0.0           0.0   \n",
      "581011           0.0           0.0           0.0           0.0           0.0   \n",
      "\n",
      "        Soil_Type_37  Soil_Type_38  Soil_Type_39  \n",
      "0                0.0           0.0           0.0  \n",
      "1                0.0           0.0           0.0  \n",
      "2                0.0           0.0           0.0  \n",
      "3                0.0           0.0           0.0  \n",
      "4                0.0           0.0           0.0  \n",
      "...              ...           ...           ...  \n",
      "581007           0.0           0.0           0.0  \n",
      "581008           0.0           0.0           0.0  \n",
      "581009           0.0           0.0           0.0  \n",
      "581010           0.0           0.0           0.0  \n",
      "581011           0.0           0.0           0.0  \n",
      "\n",
      "[581012 rows x 54 columns], 'target': 0         5\n",
      "1         5\n",
      "2         2\n",
      "3         2\n",
      "4         5\n",
      "         ..\n",
      "581007    3\n",
      "581008    3\n",
      "581009    3\n",
      "581010    3\n",
      "581011    3\n",
      "Name: Cover_Type, Length: 581012, dtype: int32, 'frame':         Elevation  Aspect  Slope  Horizontal_Distance_To_Hydrology  \\\n",
      "0          2596.0    51.0    3.0                             258.0   \n",
      "1          2590.0    56.0    2.0                             212.0   \n",
      "2          2804.0   139.0    9.0                             268.0   \n",
      "3          2785.0   155.0   18.0                             242.0   \n",
      "4          2595.0    45.0    2.0                             153.0   \n",
      "...           ...     ...    ...                               ...   \n",
      "581007     2396.0   153.0   20.0                              85.0   \n",
      "581008     2391.0   152.0   19.0                              67.0   \n",
      "581009     2386.0   159.0   17.0                              60.0   \n",
      "581010     2384.0   170.0   15.0                              60.0   \n",
      "581011     2383.0   165.0   13.0                              60.0   \n",
      "\n",
      "        Vertical_Distance_To_Hydrology  Horizontal_Distance_To_Roadways  \\\n",
      "0                                  0.0                            510.0   \n",
      "1                                 -6.0                            390.0   \n",
      "2                                 65.0                           3180.0   \n",
      "3                                118.0                           3090.0   \n",
      "4                                 -1.0                            391.0   \n",
      "...                                ...                              ...   \n",
      "581007                            17.0                            108.0   \n",
      "581008                            12.0                             95.0   \n",
      "581009                             7.0                             90.0   \n",
      "581010                             5.0                             90.0   \n",
      "581011                             4.0                             67.0   \n",
      "\n",
      "        Hillshade_9am  Hillshade_Noon  Hillshade_3pm  \\\n",
      "0               221.0           232.0          148.0   \n",
      "1               220.0           235.0          151.0   \n",
      "2               234.0           238.0          135.0   \n",
      "3               238.0           238.0          122.0   \n",
      "4               220.0           234.0          150.0   \n",
      "...               ...             ...            ...   \n",
      "581007          240.0           237.0          118.0   \n",
      "581008          240.0           237.0          119.0   \n",
      "581009          236.0           241.0          130.0   \n",
      "581010          230.0           245.0          143.0   \n",
      "581011          231.0           244.0          141.0   \n",
      "\n",
      "        Horizontal_Distance_To_Fire_Points  ...  Soil_Type_31  Soil_Type_32  \\\n",
      "0                                   6279.0  ...           0.0           0.0   \n",
      "1                                   6225.0  ...           0.0           0.0   \n",
      "2                                   6121.0  ...           0.0           0.0   \n",
      "3                                   6211.0  ...           0.0           0.0   \n",
      "4                                   6172.0  ...           0.0           0.0   \n",
      "...                                    ...  ...           ...           ...   \n",
      "581007                               837.0  ...           0.0           0.0   \n",
      "581008                               845.0  ...           0.0           0.0   \n",
      "581009                               854.0  ...           0.0           0.0   \n",
      "581010                               864.0  ...           0.0           0.0   \n",
      "581011                               875.0  ...           0.0           0.0   \n",
      "\n",
      "        Soil_Type_33  Soil_Type_34  Soil_Type_35  Soil_Type_36  Soil_Type_37  \\\n",
      "0                0.0           0.0           0.0           0.0           0.0   \n",
      "1                0.0           0.0           0.0           0.0           0.0   \n",
      "2                0.0           0.0           0.0           0.0           0.0   \n",
      "3                0.0           0.0           0.0           0.0           0.0   \n",
      "4                0.0           0.0           0.0           0.0           0.0   \n",
      "...              ...           ...           ...           ...           ...   \n",
      "581007           0.0           0.0           0.0           0.0           0.0   \n",
      "581008           0.0           0.0           0.0           0.0           0.0   \n",
      "581009           0.0           0.0           0.0           0.0           0.0   \n",
      "581010           0.0           0.0           0.0           0.0           0.0   \n",
      "581011           0.0           0.0           0.0           0.0           0.0   \n",
      "\n",
      "        Soil_Type_38  Soil_Type_39  Cover_Type  \n",
      "0                0.0           0.0           5  \n",
      "1                0.0           0.0           5  \n",
      "2                0.0           0.0           2  \n",
      "3                0.0           0.0           2  \n",
      "4                0.0           0.0           5  \n",
      "...              ...           ...         ...  \n",
      "581007           0.0           0.0           3  \n",
      "581008           0.0           0.0           3  \n",
      "581009           0.0           0.0           3  \n",
      "581010           0.0           0.0           3  \n",
      "581011           0.0           0.0           3  \n",
      "\n",
      "[581012 rows x 55 columns], 'target_names': ['Cover_Type'], 'feature_names': ['Elevation', 'Aspect', 'Slope', 'Horizontal_Distance_To_Hydrology', 'Vertical_Distance_To_Hydrology', 'Horizontal_Distance_To_Roadways', 'Hillshade_9am', 'Hillshade_Noon', 'Hillshade_3pm', 'Horizontal_Distance_To_Fire_Points', 'Wilderness_Area_0', 'Wilderness_Area_1', 'Wilderness_Area_2', 'Wilderness_Area_3', 'Soil_Type_0', 'Soil_Type_1', 'Soil_Type_2', 'Soil_Type_3', 'Soil_Type_4', 'Soil_Type_5', 'Soil_Type_6', 'Soil_Type_7', 'Soil_Type_8', 'Soil_Type_9', 'Soil_Type_10', 'Soil_Type_11', 'Soil_Type_12', 'Soil_Type_13', 'Soil_Type_14', 'Soil_Type_15', 'Soil_Type_16', 'Soil_Type_17', 'Soil_Type_18', 'Soil_Type_19', 'Soil_Type_20', 'Soil_Type_21', 'Soil_Type_22', 'Soil_Type_23', 'Soil_Type_24', 'Soil_Type_25', 'Soil_Type_26', 'Soil_Type_27', 'Soil_Type_28', 'Soil_Type_29', 'Soil_Type_30', 'Soil_Type_31', 'Soil_Type_32', 'Soil_Type_33', 'Soil_Type_34', 'Soil_Type_35', 'Soil_Type_36', 'Soil_Type_37', 'Soil_Type_38', 'Soil_Type_39'], 'DESCR': \".. _covtype_dataset:\\n\\nForest covertypes\\n-----------------\\n\\nThe samples in this dataset correspond to 30×30m patches of forest in the US,\\ncollected for the task of predicting each patch's cover type,\\ni.e. the dominant species of tree.\\nThere are seven covertypes, making this a multiclass classification problem.\\nEach sample has 54 features, described on the\\n`dataset's homepage <https://archive.ics.uci.edu/ml/datasets/Covertype>`__.\\nSome of the features are boolean indicators,\\nwhile others are discrete or continuous measurements.\\n\\n**Data Set Characteristics:**\\n\\n=================   ============\\nClasses                        7\\nSamples total             581012\\nDimensionality                54\\nFeatures                     int\\n=================   ============\\n\\n:func:`sklearn.datasets.fetch_covtype` will load the covertype dataset;\\nit returns a dictionary-like 'Bunch' object\\nwith the feature matrix in the ``data`` member\\nand the target values in ``target``. If optional argument 'as_frame' is\\nset to 'True', it will return ``data`` and ``target`` as pandas\\ndata frame, and there will be an additional member ``frame`` as well.\\nThe dataset will be downloaded from the web if necessary.\\n\"} 2\n"
     ]
    }
   ],
   "source": [
    "print(data ,2)"
   ]
  },
  {
   "cell_type": "markdown",
   "metadata": {},
   "source": [
    "## Bagging with Decision Trees"
   ]
  },
  {
   "cell_type": "code",
   "execution_count": 10,
   "metadata": {},
   "outputs": [
    {
     "name": "stdout",
     "output_type": "stream",
     "text": [
      "Bagging Test Accuracy: 0.9667\n"
     ]
    }
   ],
   "source": [
    "# Initilize Decision Tree Classifier as the base model\n",
    "model_base = DecisionTreeClassifier()\n",
    "\n",
    "# Initialize Bagging (Bootstrap Aggregation) with 50 base estimators in the ensemble and using all processors (n_jobs=-1)\n",
    "bagging_model = BaggingClassifier(estimator = model_base, n_estimators=50, random_state=42, n_jobs=-1)\n",
    "\n",
    "# Train the Bagging model on the training data\n",
    "bagging_model.fit(x_train, y_train)\n",
    "\n",
    "# Prediction on the test data\n",
    "y_pred_bagging = bagging_model.predict(x_test)\n",
    "\n",
    "# Calculate accuracy for Bagging\n",
    "acc_bagging = accuracy_score(y_test, y_pred_bagging)"
   ]
  },
  {
   "cell_type": "markdown",
   "metadata": {},
   "source": [
    "## Sequential Neural Network with Dropout"
   ]
  },
  {
   "cell_type": "markdown",
   "metadata": {},
   "source": []
  },
  {
   "cell_type": "code",
   "execution_count": 21,
   "metadata": {},
   "outputs": [
    {
     "data": {
      "text/html": [
       "<pre style=\"white-space:pre;overflow-x:auto;line-height:normal;font-family:Menlo,'DejaVu Sans Mono',consolas,'Courier New',monospace\"><span style=\"font-weight: bold\">Model: \"sequential_6\"</span>\n",
       "</pre>\n"
      ],
      "text/plain": [
       "\u001b[1mModel: \"sequential_6\"\u001b[0m\n"
      ]
     },
     "metadata": {},
     "output_type": "display_data"
    },
    {
     "data": {
      "text/html": [
       "<pre style=\"white-space:pre;overflow-x:auto;line-height:normal;font-family:Menlo,'DejaVu Sans Mono',consolas,'Courier New',monospace\">┏━━━━━━━━━━━━━━━━━━━━━━━━━━━━━━━━━┳━━━━━━━━━━━━━━━━━━━━━━━━┳━━━━━━━━━━━━━━━┓\n",
       "┃<span style=\"font-weight: bold\"> Layer (type)                    </span>┃<span style=\"font-weight: bold\"> Output Shape           </span>┃<span style=\"font-weight: bold\">       Param # </span>┃\n",
       "┡━━━━━━━━━━━━━━━━━━━━━━━━━━━━━━━━━╇━━━━━━━━━━━━━━━━━━━━━━━━╇━━━━━━━━━━━━━━━┩\n",
       "│ dense_23 (<span style=\"color: #0087ff; text-decoration-color: #0087ff\">Dense</span>)                │ (<span style=\"color: #00d7ff; text-decoration-color: #00d7ff\">None</span>, <span style=\"color: #00af00; text-decoration-color: #00af00\">128</span>)            │         <span style=\"color: #00af00; text-decoration-color: #00af00\">7,040</span> │\n",
       "├─────────────────────────────────┼────────────────────────┼───────────────┤\n",
       "│ dropout_16 (<span style=\"color: #0087ff; text-decoration-color: #0087ff\">Dropout</span>)            │ (<span style=\"color: #00d7ff; text-decoration-color: #00d7ff\">None</span>, <span style=\"color: #00af00; text-decoration-color: #00af00\">128</span>)            │             <span style=\"color: #00af00; text-decoration-color: #00af00\">0</span> │\n",
       "├─────────────────────────────────┼────────────────────────┼───────────────┤\n",
       "│ dense_24 (<span style=\"color: #0087ff; text-decoration-color: #0087ff\">Dense</span>)                │ (<span style=\"color: #00d7ff; text-decoration-color: #00d7ff\">None</span>, <span style=\"color: #00af00; text-decoration-color: #00af00\">128</span>)            │        <span style=\"color: #00af00; text-decoration-color: #00af00\">16,512</span> │\n",
       "├─────────────────────────────────┼────────────────────────┼───────────────┤\n",
       "│ dropout_17 (<span style=\"color: #0087ff; text-decoration-color: #0087ff\">Dropout</span>)            │ (<span style=\"color: #00d7ff; text-decoration-color: #00d7ff\">None</span>, <span style=\"color: #00af00; text-decoration-color: #00af00\">128</span>)            │             <span style=\"color: #00af00; text-decoration-color: #00af00\">0</span> │\n",
       "├─────────────────────────────────┼────────────────────────┼───────────────┤\n",
       "│ dense_25 (<span style=\"color: #0087ff; text-decoration-color: #0087ff\">Dense</span>)                │ (<span style=\"color: #00d7ff; text-decoration-color: #00d7ff\">None</span>, <span style=\"color: #00af00; text-decoration-color: #00af00\">7</span>)              │           <span style=\"color: #00af00; text-decoration-color: #00af00\">903</span> │\n",
       "└─────────────────────────────────┴────────────────────────┴───────────────┘\n",
       "</pre>\n"
      ],
      "text/plain": [
       "┏━━━━━━━━━━━━━━━━━━━━━━━━━━━━━━━━━┳━━━━━━━━━━━━━━━━━━━━━━━━┳━━━━━━━━━━━━━━━┓\n",
       "┃\u001b[1m \u001b[0m\u001b[1mLayer (type)                   \u001b[0m\u001b[1m \u001b[0m┃\u001b[1m \u001b[0m\u001b[1mOutput Shape          \u001b[0m\u001b[1m \u001b[0m┃\u001b[1m \u001b[0m\u001b[1m      Param #\u001b[0m\u001b[1m \u001b[0m┃\n",
       "┡━━━━━━━━━━━━━━━━━━━━━━━━━━━━━━━━━╇━━━━━━━━━━━━━━━━━━━━━━━━╇━━━━━━━━━━━━━━━┩\n",
       "│ dense_23 (\u001b[38;5;33mDense\u001b[0m)                │ (\u001b[38;5;45mNone\u001b[0m, \u001b[38;5;34m128\u001b[0m)            │         \u001b[38;5;34m7,040\u001b[0m │\n",
       "├─────────────────────────────────┼────────────────────────┼───────────────┤\n",
       "│ dropout_16 (\u001b[38;5;33mDropout\u001b[0m)            │ (\u001b[38;5;45mNone\u001b[0m, \u001b[38;5;34m128\u001b[0m)            │             \u001b[38;5;34m0\u001b[0m │\n",
       "├─────────────────────────────────┼────────────────────────┼───────────────┤\n",
       "│ dense_24 (\u001b[38;5;33mDense\u001b[0m)                │ (\u001b[38;5;45mNone\u001b[0m, \u001b[38;5;34m128\u001b[0m)            │        \u001b[38;5;34m16,512\u001b[0m │\n",
       "├─────────────────────────────────┼────────────────────────┼───────────────┤\n",
       "│ dropout_17 (\u001b[38;5;33mDropout\u001b[0m)            │ (\u001b[38;5;45mNone\u001b[0m, \u001b[38;5;34m128\u001b[0m)            │             \u001b[38;5;34m0\u001b[0m │\n",
       "├─────────────────────────────────┼────────────────────────┼───────────────┤\n",
       "│ dense_25 (\u001b[38;5;33mDense\u001b[0m)                │ (\u001b[38;5;45mNone\u001b[0m, \u001b[38;5;34m7\u001b[0m)              │           \u001b[38;5;34m903\u001b[0m │\n",
       "└─────────────────────────────────┴────────────────────────┴───────────────┘\n"
      ]
     },
     "metadata": {},
     "output_type": "display_data"
    },
    {
     "data": {
      "text/html": [
       "<pre style=\"white-space:pre;overflow-x:auto;line-height:normal;font-family:Menlo,'DejaVu Sans Mono',consolas,'Courier New',monospace\"><span style=\"font-weight: bold\"> Total params: </span><span style=\"color: #00af00; text-decoration-color: #00af00\">24,455</span> (95.53 KB)\n",
       "</pre>\n"
      ],
      "text/plain": [
       "\u001b[1m Total params: \u001b[0m\u001b[38;5;34m24,455\u001b[0m (95.53 KB)\n"
      ]
     },
     "metadata": {},
     "output_type": "display_data"
    },
    {
     "data": {
      "text/html": [
       "<pre style=\"white-space:pre;overflow-x:auto;line-height:normal;font-family:Menlo,'DejaVu Sans Mono',consolas,'Courier New',monospace\"><span style=\"font-weight: bold\"> Trainable params: </span><span style=\"color: #00af00; text-decoration-color: #00af00\">24,455</span> (95.53 KB)\n",
       "</pre>\n"
      ],
      "text/plain": [
       "\u001b[1m Trainable params: \u001b[0m\u001b[38;5;34m24,455\u001b[0m (95.53 KB)\n"
      ]
     },
     "metadata": {},
     "output_type": "display_data"
    },
    {
     "data": {
      "text/html": [
       "<pre style=\"white-space:pre;overflow-x:auto;line-height:normal;font-family:Menlo,'DejaVu Sans Mono',consolas,'Courier New',monospace\"><span style=\"font-weight: bold\"> Non-trainable params: </span><span style=\"color: #00af00; text-decoration-color: #00af00\">0</span> (0.00 B)\n",
       "</pre>\n"
      ],
      "text/plain": [
       "\u001b[1m Non-trainable params: \u001b[0m\u001b[38;5;34m0\u001b[0m (0.00 B)\n"
      ]
     },
     "metadata": {},
     "output_type": "display_data"
    }
   ],
   "source": [
    "# Defining the NN as a sequential model\n",
    "hidden_layer_size = 128\n",
    "nn_model = models.Sequential([\n",
    "    # Input layer\n",
    "    layers.Input(shape = (x_train.shape[1],)),\n",
    "    # First hidden layer\n",
    "    layers.Dense(hidden_layer_size, activation=\"relu\"),\n",
    "    # Adding Dropout of 50%\n",
    "    layers.Dropout(0.5),\n",
    "    # Hidden Layer\n",
    "    layers.Dense(hidden_layer_size, activation=\"relu\"),\n",
    "    # Adding Dropout of 50%\n",
    "    layers.Dropout(0.5),\n",
    "    # Output layer for classification (7 classes in the dataset)\n",
    "    layers.Dense(7, activation=\"softmax\")\n",
    "])\n",
    "\n",
    "# Summary of the model\n",
    "nn_model.summary()\n",
    "\n",
    "# Compile the model\n",
    "nn_model.compile(optimizer=\"adam\", loss=\"sparse_categorical_crossentropy\", metrics=[\"accuracy\"])\n",
    "\n",
    "# Train the model with Dropout\n",
    "nn_model_trained = nn_model.fit(x_train, y_train, epochs=50, batch_size=128, validation_data=(x_test, y_test), verbose=0)"
   ]
  },
  {
   "cell_type": "code",
   "execution_count": 23,
   "metadata": {},
   "outputs": [
    {
     "name": "stdout",
     "output_type": "stream",
     "text": [
      "Neural Network with Dropout Test Accuracy: 0.6798\n",
      "Bagging Test Accuracy: 0.9667\n"
     ]
    }
   ],
   "source": [
    "# Evaluate NN and Bagging\n",
    "test_loss_nn, test_acc_nn = nn_model.evaluate(x_test, y_test, verbose=0)\n",
    "print(f\"Neural Network with Dropout Test Accuracy: {test_acc_nn:.4f}\")\n",
    "\n",
    "# Printing out the accuracy for Bagging\n",
    "print(f\"Bagging Test Accuracy: {acc_bagging:.4}\")"
   ]
  },
  {
   "cell_type": "markdown",
   "metadata": {},
   "source": [
    "Typically, Bagging performs well on structured/tabular data like the Forest CoverType dataset, and we see that by the high accuracy of 96.67%. This is because Bagging reduces variance by combining the predictions of multiple decision trees trained on different subsets of the data.\n",
    "\n",
    "The neural network performed lower in accuracy compared to Bagging, especially since it's not fully tuned for this kind of structured data. While Dropout helps prevent overfitting, neural networks usually require more fine-tuning for tabular datasets, its accuracy is significantly lower of 67.98%."
   ]
  }
 ],
 "metadata": {
  "kernelspec": {
   "display_name": "Python 3",
   "language": "python",
   "name": "python3"
  },
  "language_info": {
   "codemirror_mode": {
    "name": "ipython",
    "version": 3
   },
   "file_extension": ".py",
   "mimetype": "text/x-python",
   "name": "python",
   "nbconvert_exporter": "python",
   "pygments_lexer": "ipython3",
   "version": "3.11.4"
  }
 },
 "nbformat": 4,
 "nbformat_minor": 2
}
